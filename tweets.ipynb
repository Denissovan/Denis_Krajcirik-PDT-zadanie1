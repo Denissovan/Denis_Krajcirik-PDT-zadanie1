{
 "cells": [
  {
   "cell_type": "code",
   "execution_count": 3,
   "source": [
    "import os"
   ],
   "outputs": [],
   "metadata": {}
  },
  {
   "cell_type": "code",
   "execution_count": 100,
   "source": [
    "!pip install pandas"
   ],
   "outputs": [
    {
     "output_type": "stream",
     "name": "stdout",
     "text": [
      "Requirement already satisfied: pandas in c:\\users\\kdeni\\anaconda3\\envs\\sql\\lib\\site-packages (1.3.3)\n",
      "Requirement already satisfied: python-dateutil>=2.7.3 in c:\\users\\kdeni\\anaconda3\\envs\\sql\\lib\\site-packages (from pandas) (2.8.2)\n",
      "Requirement already satisfied: numpy>=1.17.3 in c:\\users\\kdeni\\anaconda3\\envs\\sql\\lib\\site-packages (from pandas) (1.21.2)\n",
      "Requirement already satisfied: pytz>=2017.3 in c:\\users\\kdeni\\anaconda3\\envs\\sql\\lib\\site-packages (from pandas) (2021.1)\n",
      "Requirement already satisfied: six>=1.5 in c:\\users\\kdeni\\anaconda3\\envs\\sql\\lib\\site-packages (from python-dateutil>=2.7.3->pandas) (1.16.0)\n"
     ]
    }
   ],
   "metadata": {}
  },
  {
   "cell_type": "code",
   "execution_count": 19,
   "source": [
    "import pandas as pd"
   ],
   "outputs": [],
   "metadata": {}
  },
  {
   "cell_type": "code",
   "execution_count": 4,
   "source": [
    "# !pip install psycopg2\r\n",
    "# import psycopg2"
   ],
   "outputs": [],
   "metadata": {}
  },
  {
   "cell_type": "code",
   "execution_count": 5,
   "source": [
    "# %load_ext sql"
   ],
   "outputs": [],
   "metadata": {}
  },
  {
   "cell_type": "code",
   "execution_count": 6,
   "source": [
    "HOST = \"localhost\"\r\n",
    "DB = \"tweetsDB\"\r\n",
    "USER = \"postgres\"\r\n",
    "PASSWD = \"passwd\""
   ],
   "outputs": [],
   "metadata": {}
  },
  {
   "cell_type": "code",
   "execution_count": 7,
   "source": [
    "# conn = psycopg2.connect(dbname=DB, user=USER, password=PASSWD, host=HOST)"
   ],
   "outputs": [],
   "metadata": {}
  },
  {
   "cell_type": "code",
   "execution_count": 8,
   "source": [
    "# cur = conn.cursor()"
   ],
   "outputs": [],
   "metadata": {}
  },
  {
   "cell_type": "code",
   "execution_count": 9,
   "source": [
    "query = \"\"\"\r\n",
    "    SELECT value \r\n",
    "    FROM hashtags\r\n",
    "    LIMIT 100\r\n",
    "\"\"\""
   ],
   "outputs": [],
   "metadata": {}
  },
  {
   "cell_type": "code",
   "execution_count": 10,
   "source": [
    "# cur.execute(query)"
   ],
   "outputs": [],
   "metadata": {}
  },
  {
   "cell_type": "code",
   "execution_count": 11,
   "source": [
    "# cur.fetchall()"
   ],
   "outputs": [],
   "metadata": {}
  },
  {
   "cell_type": "code",
   "execution_count": 12,
   "source": [
    "# res = cur.execute(\"SELECT * FROM hashtags LIMIT 100\")"
   ],
   "outputs": [],
   "metadata": {}
  },
  {
   "cell_type": "code",
   "execution_count": 13,
   "source": [
    "# print(res)"
   ],
   "outputs": [],
   "metadata": {}
  },
  {
   "cell_type": "code",
   "execution_count": 14,
   "source": [
    "import nltk\r\n",
    "nltk.download('vader_lexicon')\r\n",
    "from nltk.sentiment.vader import SentimentIntensityAnalyzer"
   ],
   "outputs": [
    {
     "output_type": "stream",
     "name": "stderr",
     "text": [
      "[nltk_data] Downloading package vader_lexicon to\n",
      "[nltk_data]     C:\\Users\\kdeni\\AppData\\Roaming\\nltk_data...\n",
      "[nltk_data]   Package vader_lexicon is already up-to-date!\n"
     ]
    }
   ],
   "metadata": {}
  },
  {
   "cell_type": "code",
   "execution_count": 15,
   "source": [
    "sid = SentimentIntensityAnalyzer()"
   ],
   "outputs": [],
   "metadata": {}
  },
  {
   "cell_type": "code",
   "execution_count": 16,
   "source": [
    "from sqlalchemy import create_engine"
   ],
   "outputs": [],
   "metadata": {}
  },
  {
   "cell_type": "code",
   "execution_count": 17,
   "source": [
    "posgres_conn_str = f\"postgresql://{USER}:{PASSWD}@{HOST}/{DB}\""
   ],
   "outputs": [],
   "metadata": {}
  },
  {
   "cell_type": "code",
   "execution_count": 18,
   "source": [
    "engine = create_engine(posgres_conn_str)"
   ],
   "outputs": [],
   "metadata": {}
  },
  {
   "cell_type": "code",
   "execution_count": null,
   "source": [],
   "outputs": [],
   "metadata": {}
  },
  {
   "cell_type": "markdown",
   "source": [
    "TODO:\r\n",
    "\r\n",
    "    1. vytvorit si novy stlpec pre sentiment(neg, neu, pos, compound)\r\n",
    "    2. joinut tweety s tweethashtagmi s hashtagmi \r\n",
    "    3. vyfiltrovat podla danych hashtagov, ktore chcem \r\n",
    "    4. vypocitat sentiment a zapisat do DB"
   ],
   "metadata": {}
  },
  {
   "cell_type": "code",
   "execution_count": 20,
   "source": [
    "df = pd.read_sql(query, engine)"
   ],
   "outputs": [],
   "metadata": {}
  },
  {
   "cell_type": "code",
   "execution_count": 72,
   "source": [
    "string = \"Hovmp\""
   ],
   "outputs": [],
   "metadata": {}
  },
  {
   "cell_type": "code",
   "execution_count": 73,
   "source": [
    "string.lower()"
   ],
   "outputs": [
    {
     "output_type": "execute_result",
     "data": {
      "text/plain": [
       "'hovmp'"
      ]
     },
     "metadata": {},
     "execution_count": 73
    }
   ],
   "metadata": {}
  },
  {
   "cell_type": "code",
   "execution_count": 51,
   "source": [
    "HASHTAG_FILTER = \"\"\"'DeepstateVirus', 'DeepStateVaccine',\r\n",
    "'DeepStateFauci', 'QAnon', 'Agenda21', 'CCPVirus', 'ClimateChangeHoax',\r\n",
    "'GlobalWarmingHoax', 'ChinaLiedPeopleDied', 'SorosVirus', '5GCoronavirus', 'MAGA',\r\n",
    "'WWG1WGA', 'Chemtrails', 'flatEarth', 'MoonLandingHoax', 'moonhoax', 'illuminati',\r\n",
    "'pizzaGateIsReal', 'PedoGateIsReal', '911truth', '911insidejob', 'reptilians'\"\"\""
   ],
   "outputs": [],
   "metadata": {}
  },
  {
   "cell_type": "code",
   "execution_count": 101,
   "source": [
    "CONSPIRACY_THEORIES = {\r\n",
    "        \"Deep State\"                            : \"DeepstateVirus, DeepStateVaccine, DeepStateFauci\",\r\n",
    "        \"Qanon\"                                 : \"QAnon, MAGA, WWG1WGA\",\r\n",
    "        \"New world order\"                       : \"Agenda21\",\r\n",
    "        \"The virus escaped from a Chinese lab\"  : \"CCPVirus, ChinaLiedPeopleDied\",\r\n",
    "        \"GLobal Warming is HOAX\"                : \"ClimateChangeHoax, GlobalWarmingHoax\",\r\n",
    "        \"COVID19 and microchipping\"             : \"SorosVirus, BillGAtes\",\r\n",
    "        \"COVID19 is preaded by 5G\"              : \"5GCoronavirus\",\r\n",
    "        \"Moon landing is fake\"                  : \"MoonLandingHoax, moonhoax\",\r\n",
    "        \"9/11 was inside job\"                   : \"911truth, 911insidejob\",\r\n",
    "        \"Pizzagate conspiracy theory\"           : \"pizzaGateIsReal, PedoGateIsReal\",\r\n",
    "        \"Chemtrails\"                            : \"Chemtrails\",\r\n",
    "        \"FlatEarth\"                             : \"flatEarth\",\r\n",
    "        \"Illuminati\"                            : \"illuminati\",\r\n",
    "        \"Reptilian conspiracy theory\"           : \"reptilians\"\r\n",
    "}"
   ],
   "outputs": [],
   "metadata": {}
  },
  {
   "cell_type": "markdown",
   "source": [
    "We need to match all the mutations of the hashtags:"
   ],
   "metadata": {}
  },
  {
   "cell_type": "code",
   "execution_count": 74,
   "source": [
    "filter_query = f\"\"\"\r\n",
    "    SELECT * \r\n",
    "    FROM hashtags\r\n",
    "    WHERE lower(value) LIKE ANY (array[{HASHTAG_FILTER.lower()}])\r\n",
    "\"\"\""
   ],
   "outputs": [],
   "metadata": {}
  },
  {
   "cell_type": "code",
   "execution_count": 75,
   "source": [
    "filter_query"
   ],
   "outputs": [
    {
     "output_type": "execute_result",
     "data": {
      "text/plain": [
       "\"\\n    SELECT * \\n    FROM hashtags\\n    WHERE lower(value) LIKE ANY (array['deepstatevirus', 'deepstatevaccine',\\n'deepstatefauci', 'qanon', 'agenda21', 'ccpvirus', 'climatechangehoax',\\n'globalwarminghoax', 'chinaliedpeopledied', 'sorosvirus', '5gcoronavirus', 'maga',\\n'wwg1wga', 'chemtrails', 'flatearth', 'moonlandinghoax', 'moonhoax', 'illuminati',\\n'pizzagateisreal', 'pedogateisreal', '911truth', '911insidejob', 'reptilians'])\\n\""
      ]
     },
     "metadata": {},
     "execution_count": 75
    }
   ],
   "metadata": {}
  },
  {
   "cell_type": "code",
   "execution_count": 97,
   "source": [
    "qanon_query = f\"\"\"\r\n",
    "    SELECT * \r\n",
    "    FROM hashtags\r\n",
    "    WHERE lower(value) LIKE ANY (array['qanon'])\r\n",
    "\"\"\""
   ],
   "outputs": [],
   "metadata": {}
  },
  {
   "cell_type": "code",
   "execution_count": 98,
   "source": [
    "df_qanon = pd.read_sql(qanon_query, engine)"
   ],
   "outputs": [],
   "metadata": {}
  },
  {
   "cell_type": "code",
   "execution_count": 76,
   "source": [
    "df_filtered = pd.read_sql(filter_query, engine)"
   ],
   "outputs": [],
   "metadata": {}
  },
  {
   "cell_type": "markdown",
   "source": [
    "Count of every mutation of the \"conspiracy\" hashtags"
   ],
   "metadata": {}
  },
  {
   "cell_type": "code",
   "execution_count": 77,
   "source": [
    "df_filtered"
   ],
   "outputs": [
    {
     "output_type": "execute_result",
     "data": {
      "text/html": [
       "<div>\n",
       "<style scoped>\n",
       "    .dataframe tbody tr th:only-of-type {\n",
       "        vertical-align: middle;\n",
       "    }\n",
       "\n",
       "    .dataframe tbody tr th {\n",
       "        vertical-align: top;\n",
       "    }\n",
       "\n",
       "    .dataframe thead th {\n",
       "        text-align: right;\n",
       "    }\n",
       "</style>\n",
       "<table border=\"1\" class=\"dataframe\">\n",
       "  <thead>\n",
       "    <tr style=\"text-align: right;\">\n",
       "      <th></th>\n",
       "      <th>id</th>\n",
       "      <th>value</th>\n",
       "    </tr>\n",
       "  </thead>\n",
       "  <tbody>\n",
       "    <tr>\n",
       "      <th>0</th>\n",
       "      <td>111971</td>\n",
       "      <td>agenda21</td>\n",
       "    </tr>\n",
       "    <tr>\n",
       "      <th>1</th>\n",
       "      <td>363281</td>\n",
       "      <td>AGENDA21</td>\n",
       "    </tr>\n",
       "    <tr>\n",
       "      <th>2</th>\n",
       "      <td>905802</td>\n",
       "      <td>ChemTrails</td>\n",
       "    </tr>\n",
       "    <tr>\n",
       "      <th>3</th>\n",
       "      <td>3907585</td>\n",
       "      <td>SorosVirus</td>\n",
       "    </tr>\n",
       "    <tr>\n",
       "      <th>4</th>\n",
       "      <td>3486140</td>\n",
       "      <td>GlobalWarmingHoax</td>\n",
       "    </tr>\n",
       "    <tr>\n",
       "      <th>...</th>\n",
       "      <td>...</td>\n",
       "      <td>...</td>\n",
       "    </tr>\n",
       "    <tr>\n",
       "      <th>125</th>\n",
       "      <td>22849188</td>\n",
       "      <td>QanOn</td>\n",
       "    </tr>\n",
       "    <tr>\n",
       "      <th>126</th>\n",
       "      <td>20506</td>\n",
       "      <td>QAnon</td>\n",
       "    </tr>\n",
       "    <tr>\n",
       "      <th>127</th>\n",
       "      <td>77112</td>\n",
       "      <td>Qanon</td>\n",
       "    </tr>\n",
       "    <tr>\n",
       "      <th>128</th>\n",
       "      <td>25089</td>\n",
       "      <td>WWG1WGA</td>\n",
       "    </tr>\n",
       "    <tr>\n",
       "      <th>129</th>\n",
       "      <td>14415</td>\n",
       "      <td>MAGA</td>\n",
       "    </tr>\n",
       "  </tbody>\n",
       "</table>\n",
       "<p>130 rows × 2 columns</p>\n",
       "</div>"
      ],
      "text/plain": [
       "           id              value\n",
       "0      111971           agenda21\n",
       "1      363281           AGENDA21\n",
       "2      905802         ChemTrails\n",
       "3     3907585         SorosVirus\n",
       "4     3486140  GlobalWarmingHoax\n",
       "..        ...                ...\n",
       "125  22849188              QanOn\n",
       "126     20506              QAnon\n",
       "127     77112              Qanon\n",
       "128     25089            WWG1WGA\n",
       "129     14415               MAGA\n",
       "\n",
       "[130 rows x 2 columns]"
      ]
     },
     "metadata": {},
     "execution_count": 77
    }
   ],
   "metadata": {}
  },
  {
   "cell_type": "code",
   "execution_count": 99,
   "source": [
    "df_qanon"
   ],
   "outputs": [
    {
     "output_type": "execute_result",
     "data": {
      "text/html": [
       "<div>\n",
       "<style scoped>\n",
       "    .dataframe tbody tr th:only-of-type {\n",
       "        vertical-align: middle;\n",
       "    }\n",
       "\n",
       "    .dataframe tbody tr th {\n",
       "        vertical-align: top;\n",
       "    }\n",
       "\n",
       "    .dataframe thead th {\n",
       "        text-align: right;\n",
       "    }\n",
       "</style>\n",
       "<table border=\"1\" class=\"dataframe\">\n",
       "  <thead>\n",
       "    <tr style=\"text-align: right;\">\n",
       "      <th></th>\n",
       "      <th>id</th>\n",
       "      <th>value</th>\n",
       "    </tr>\n",
       "  </thead>\n",
       "  <tbody>\n",
       "    <tr>\n",
       "      <th>0</th>\n",
       "      <td>15168832</td>\n",
       "      <td>QANOn</td>\n",
       "    </tr>\n",
       "    <tr>\n",
       "      <th>1</th>\n",
       "      <td>15170088</td>\n",
       "      <td>qaNon</td>\n",
       "    </tr>\n",
       "    <tr>\n",
       "      <th>2</th>\n",
       "      <td>15189267</td>\n",
       "      <td>QAnoN</td>\n",
       "    </tr>\n",
       "    <tr>\n",
       "      <th>3</th>\n",
       "      <td>15274024</td>\n",
       "      <td>QaNON</td>\n",
       "    </tr>\n",
       "    <tr>\n",
       "      <th>4</th>\n",
       "      <td>15752301</td>\n",
       "      <td>QANon</td>\n",
       "    </tr>\n",
       "    <tr>\n",
       "      <th>5</th>\n",
       "      <td>15856421</td>\n",
       "      <td>qAnoN</td>\n",
       "    </tr>\n",
       "    <tr>\n",
       "      <th>6</th>\n",
       "      <td>18671401</td>\n",
       "      <td>qAnON</td>\n",
       "    </tr>\n",
       "    <tr>\n",
       "      <th>7</th>\n",
       "      <td>16204212</td>\n",
       "      <td>QaNon</td>\n",
       "    </tr>\n",
       "    <tr>\n",
       "      <th>8</th>\n",
       "      <td>18149870</td>\n",
       "      <td>qanoN</td>\n",
       "    </tr>\n",
       "    <tr>\n",
       "      <th>9</th>\n",
       "      <td>16070849</td>\n",
       "      <td>qaNON</td>\n",
       "    </tr>\n",
       "    <tr>\n",
       "      <th>10</th>\n",
       "      <td>16342002</td>\n",
       "      <td>QaNoN</td>\n",
       "    </tr>\n",
       "    <tr>\n",
       "      <th>11</th>\n",
       "      <td>20298034</td>\n",
       "      <td>QANoN</td>\n",
       "    </tr>\n",
       "    <tr>\n",
       "      <th>12</th>\n",
       "      <td>16799781</td>\n",
       "      <td>qanOn</td>\n",
       "    </tr>\n",
       "    <tr>\n",
       "      <th>13</th>\n",
       "      <td>15177935</td>\n",
       "      <td>qAnon</td>\n",
       "    </tr>\n",
       "    <tr>\n",
       "      <th>14</th>\n",
       "      <td>21370247</td>\n",
       "      <td>qanON</td>\n",
       "    </tr>\n",
       "    <tr>\n",
       "      <th>15</th>\n",
       "      <td>15690756</td>\n",
       "      <td>qANON</td>\n",
       "    </tr>\n",
       "    <tr>\n",
       "      <th>16</th>\n",
       "      <td>21259243</td>\n",
       "      <td>QAnON</td>\n",
       "    </tr>\n",
       "    <tr>\n",
       "      <th>17</th>\n",
       "      <td>18387797</td>\n",
       "      <td>QanON</td>\n",
       "    </tr>\n",
       "    <tr>\n",
       "      <th>18</th>\n",
       "      <td>22837040</td>\n",
       "      <td>QanoN</td>\n",
       "    </tr>\n",
       "    <tr>\n",
       "      <th>19</th>\n",
       "      <td>27195</td>\n",
       "      <td>QANON</td>\n",
       "    </tr>\n",
       "    <tr>\n",
       "      <th>20</th>\n",
       "      <td>25091</td>\n",
       "      <td>qanon</td>\n",
       "    </tr>\n",
       "    <tr>\n",
       "      <th>21</th>\n",
       "      <td>22849188</td>\n",
       "      <td>QanOn</td>\n",
       "    </tr>\n",
       "    <tr>\n",
       "      <th>22</th>\n",
       "      <td>20506</td>\n",
       "      <td>QAnon</td>\n",
       "    </tr>\n",
       "    <tr>\n",
       "      <th>23</th>\n",
       "      <td>77112</td>\n",
       "      <td>Qanon</td>\n",
       "    </tr>\n",
       "  </tbody>\n",
       "</table>\n",
       "</div>"
      ],
      "text/plain": [
       "          id  value\n",
       "0   15168832  QANOn\n",
       "1   15170088  qaNon\n",
       "2   15189267  QAnoN\n",
       "3   15274024  QaNON\n",
       "4   15752301  QANon\n",
       "5   15856421  qAnoN\n",
       "6   18671401  qAnON\n",
       "7   16204212  QaNon\n",
       "8   18149870  qanoN\n",
       "9   16070849  qaNON\n",
       "10  16342002  QaNoN\n",
       "11  20298034  QANoN\n",
       "12  16799781  qanOn\n",
       "13  15177935  qAnon\n",
       "14  21370247  qanON\n",
       "15  15690756  qANON\n",
       "16  21259243  QAnON\n",
       "17  18387797  QanON\n",
       "18  22837040  QanoN\n",
       "19     27195  QANON\n",
       "20     25091  qanon\n",
       "21  22849188  QanOn\n",
       "22     20506  QAnon\n",
       "23     77112  Qanon"
      ]
     },
     "metadata": {},
     "execution_count": 99
    }
   ],
   "metadata": {}
  },
  {
   "cell_type": "markdown",
   "source": [
    "We can see that hoaxer dont know grammar"
   ],
   "metadata": {}
  },
  {
   "cell_type": "code",
   "execution_count": 68,
   "source": [
    "splited = hastag_filter.split(sep=\",\")"
   ],
   "outputs": [],
   "metadata": {}
  },
  {
   "cell_type": "code",
   "execution_count": 69,
   "source": [
    "splited"
   ],
   "outputs": [
    {
     "output_type": "execute_result",
     "data": {
      "text/plain": [
       "[\"'DeepstateVirus'\",\n",
       " \" 'DeepStateVaccine'\",\n",
       " \"\\n'DeepStateFauci'\",\n",
       " \" 'QAnon'\",\n",
       " \" 'Agenda21'\",\n",
       " \" 'CCPVirus'\",\n",
       " \" 'ClimateChangeHoax'\",\n",
       " \"\\n'GlobalWarmingHoax'\",\n",
       " \" 'ChinaLiedPeopleDied'\",\n",
       " \" 'SorosVirus'\",\n",
       " \" '5GCoronavirus'\",\n",
       " \" 'MAGA'\",\n",
       " \"\\n'WWG1WGA'\",\n",
       " \" 'Chemtrails'\",\n",
       " \" 'flatEarth'\",\n",
       " \" 'MoonLandingHoax'\",\n",
       " \" 'moonhoax'\",\n",
       " \" 'illuminati'\",\n",
       " \"\\n'pizzaGateIsReal'\",\n",
       " \" 'PedoGateIsReal'\",\n",
       " \" '911truth'\",\n",
       " \" '911insidejob'\",\n",
       " \" 'reptilians'\"]"
      ]
     },
     "metadata": {},
     "execution_count": 69
    }
   ],
   "metadata": {}
  },
  {
   "cell_type": "markdown",
   "source": [
    "Next we will perform the same query but also with joins"
   ],
   "metadata": {}
  },
  {
   "cell_type": "code",
   "execution_count": null,
   "source": [],
   "outputs": [],
   "metadata": {}
  },
  {
   "cell_type": "markdown",
   "source": [
    "After that we will need to parse all the tweet contents and compute the sentiment"
   ],
   "metadata": {}
  },
  {
   "cell_type": "code",
   "execution_count": null,
   "source": [],
   "outputs": [],
   "metadata": {}
  },
  {
   "cell_type": "code",
   "execution_count": null,
   "source": [],
   "outputs": [],
   "metadata": {}
  }
 ],
 "metadata": {
  "orig_nbformat": 4,
  "language_info": {
   "name": "python",
   "version": "3.9.7",
   "mimetype": "text/x-python",
   "codemirror_mode": {
    "name": "ipython",
    "version": 3
   },
   "pygments_lexer": "ipython3",
   "nbconvert_exporter": "python",
   "file_extension": ".py"
  },
  "kernelspec": {
   "name": "python3",
   "display_name": "Python 3.9.7 64-bit ('sql': conda)"
  },
  "interpreter": {
   "hash": "40ebf39cc78120e8d8da3d6771111c3ea7828c68f8f0b14eb3a26b4bf81b5e12"
  }
 },
 "nbformat": 4,
 "nbformat_minor": 2
}